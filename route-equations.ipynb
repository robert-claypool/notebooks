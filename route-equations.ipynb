{
 "cells": [
  {
   "cell_type": "markdown",
   "metadata": {},
   "source": [
    "## Accident Likelihood\n",
    "\\begin{equation*}\n",
    "\\sum_{i=1}^n (\\text{accident rate per mile} *\\text{number of miles})\n",
    "\\end{equation*}"
   ]
  },
  {
   "cell_type": "markdown",
   "metadata": {},
   "source": [
    "## Average Traffic Density\n",
    "\\begin{equation*}\n",
    "\\sum_{i=1}^n \\left(\\frac{\\text{traffic density} * \\text{number of miles}}{\\text{route length in miles}}\\right)\n",
    "\\end{equation*}"
   ]
  },
  {
   "cell_type": "markdown",
   "metadata": {},
   "source": [
    "## Averge Population Density\n",
    "\\begin{equation*}\n",
    "\\sum_{i=1}^n \\left(\\frac{\\text{population density per sq. mile} * \\text{number of miles}}{\\text{route length in miles}}\\right)\n",
    "\\end{equation*}"
   ]
  },
  {
   "cell_type": "markdown",
   "metadata": {},
   "source": [
    "## Avergage Track Class\n",
    "\\begin{equation*}\n",
    "\\sum_{i=1}^n \\left(\\frac{\\text{track class} * \\text{number of miles}}{\\text{route length in miles}}\\right)\n",
    "\\end{equation*}"
   ]
  }
 ],
 "metadata": {
  "kernelspec": {
   "display_name": "Python 3",
   "language": "python",
   "name": "python3"
  },
  "language_info": {
   "codemirror_mode": {
    "name": "ipython",
    "version": 3
   },
   "file_extension": ".py",
   "mimetype": "text/x-python",
   "name": "python",
   "nbconvert_exporter": "python",
   "pygments_lexer": "ipython3",
   "version": "3.6.1"
  }
 },
 "nbformat": 4,
 "nbformat_minor": 2
}
